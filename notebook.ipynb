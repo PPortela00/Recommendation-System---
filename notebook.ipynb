{
 "cells": [
  {
   "cell_type": "markdown",
   "metadata": {},
   "source": [
    "<h1 style='font-size: 50px; text-align: center; font-family: 'Formata', serif;'>\n",
    "    Analysis of Complex Data, Master in Data Science & Engineering, 2023-2024\n",
    "</h1>"
   ]
  },
  {
   "cell_type": "markdown",
   "metadata": {},
   "source": [
    "<h1 style='font-size: 30px; font-weight: bold; margin-bottom: 10px; font-family: 'Formata', serif;'>\n",
    "        1. Import libraries, classes, custom functions, and data load</h1>"
   ]
  },
  {
   "cell_type": "code",
   "execution_count": 1,
   "metadata": {},
   "outputs": [],
   "source": [
    "import pandas as pd\n",
    "import utility_func as utils\n",
    "import DataLoaderLocal\n",
    "\n",
    "\n",
    "# Adjust display options to show all columns\n",
    "pd.set_option('display.max_columns', None)"
   ]
  },
  {
   "cell_type": "code",
   "execution_count": 2,
   "metadata": {},
   "outputs": [],
   "source": [
    "business, reviews, users = DataLoaderLocal.LoadJSON()"
   ]
  },
  {
   "cell_type": "markdown",
   "metadata": {},
   "source": [
    "<h1 style='font-size: 30px; font-weight: bold; margin-bottom: 10px; font-family: 'Formata', serif;'>\n",
    "        2. EDA - Exploratory Data Analysis</h1>"
   ]
  },
  {
   "cell_type": "code",
   "execution_count": 3,
   "metadata": {},
   "outputs": [
    {
     "data": {
      "text/html": [
       "<div>\n",
       "<style scoped>\n",
       "    .dataframe tbody tr th:only-of-type {\n",
       "        vertical-align: middle;\n",
       "    }\n",
       "\n",
       "    .dataframe tbody tr th {\n",
       "        vertical-align: top;\n",
       "    }\n",
       "\n",
       "    .dataframe thead th {\n",
       "        text-align: right;\n",
       "    }\n",
       "</style>\n",
       "<table border=\"1\" class=\"dataframe\">\n",
       "  <thead>\n",
       "    <tr style=\"text-align: right;\">\n",
       "      <th></th>\n",
       "      <th>review_id</th>\n",
       "      <th>business_id</th>\n",
       "      <th>stars</th>\n",
       "      <th>city</th>\n",
       "      <th>review_count</th>\n",
       "      <th>is_open</th>\n",
       "    </tr>\n",
       "  </thead>\n",
       "  <tbody>\n",
       "    <tr>\n",
       "      <th>0</th>\n",
       "      <td>KU_O5udG6zpxOg-VcAEodg</td>\n",
       "      <td>XQfwVwDr-v0ZS3_CbbE5Xw</td>\n",
       "      <td>3</td>\n",
       "      <td>North Wales</td>\n",
       "      <td>169</td>\n",
       "      <td>1</td>\n",
       "    </tr>\n",
       "    <tr>\n",
       "      <th>1</th>\n",
       "      <td>BiTunyQ73aT9WBnpR9DZGw</td>\n",
       "      <td>7ATYjTIgM3jUlt4UM3IypQ</td>\n",
       "      <td>5</td>\n",
       "      <td>Philadelphia</td>\n",
       "      <td>144</td>\n",
       "      <td>0</td>\n",
       "    </tr>\n",
       "    <tr>\n",
       "      <th>2</th>\n",
       "      <td>saUsX_uimxRlCVr67Z4Jig</td>\n",
       "      <td>YjUWPpI6HXG530lwP-fb2A</td>\n",
       "      <td>3</td>\n",
       "      <td>Tucson</td>\n",
       "      <td>47</td>\n",
       "      <td>1</td>\n",
       "    </tr>\n",
       "    <tr>\n",
       "      <th>3</th>\n",
       "      <td>AqPFMleE6RsU23_auESxiA</td>\n",
       "      <td>kxX2SOes4o-D3ZQBkiMRfA</td>\n",
       "      <td>5</td>\n",
       "      <td>Philadelphia</td>\n",
       "      <td>181</td>\n",
       "      <td>1</td>\n",
       "    </tr>\n",
       "    <tr>\n",
       "      <th>4</th>\n",
       "      <td>Sx8TMOWLNuJBWer-0pcmoA</td>\n",
       "      <td>e4Vwtrqf-wpJfwesgvdgxQ</td>\n",
       "      <td>4</td>\n",
       "      <td>New Orleans</td>\n",
       "      <td>32</td>\n",
       "      <td>0</td>\n",
       "    </tr>\n",
       "    <tr>\n",
       "      <th>...</th>\n",
       "      <td>...</td>\n",
       "      <td>...</td>\n",
       "      <td>...</td>\n",
       "      <td>...</td>\n",
       "      <td>...</td>\n",
       "      <td>...</td>\n",
       "    </tr>\n",
       "    <tr>\n",
       "      <th>6990275</th>\n",
       "      <td>H0RIamZu0B0Ei0P4aeh3sQ</td>\n",
       "      <td>jals67o91gcrD4DC81Vk6w</td>\n",
       "      <td>5</td>\n",
       "      <td>Boise</td>\n",
       "      <td>36</td>\n",
       "      <td>1</td>\n",
       "    </tr>\n",
       "    <tr>\n",
       "      <th>6990276</th>\n",
       "      <td>shTPgbgdwTHSuU67mGCmZQ</td>\n",
       "      <td>2vLksaMmSEcGbjI5gywpZA</td>\n",
       "      <td>5</td>\n",
       "      <td>Wimauma</td>\n",
       "      <td>30</td>\n",
       "      <td>1</td>\n",
       "    </tr>\n",
       "    <tr>\n",
       "      <th>6990277</th>\n",
       "      <td>YNfNhgZlaaCO5Q_YJR4rEw</td>\n",
       "      <td>R1khUUxidqfaJmcpmGd4aw</td>\n",
       "      <td>4</td>\n",
       "      <td>Willow Grove</td>\n",
       "      <td>32</td>\n",
       "      <td>1</td>\n",
       "    </tr>\n",
       "    <tr>\n",
       "      <th>6990278</th>\n",
       "      <td>i-I4ZOhoX70Nw5H0FwrQUA</td>\n",
       "      <td>Rr9kKArrMhSLVE9a53q-aA</td>\n",
       "      <td>5</td>\n",
       "      <td>Indianapolis</td>\n",
       "      <td>83</td>\n",
       "      <td>1</td>\n",
       "    </tr>\n",
       "    <tr>\n",
       "      <th>6990279</th>\n",
       "      <td>RwcKOdEuLRHNJe4M9-qpqg</td>\n",
       "      <td>VAeEXLbEcI9Emt9KGYq9aA</td>\n",
       "      <td>3</td>\n",
       "      <td>Nashville</td>\n",
       "      <td>3054</td>\n",
       "      <td>1</td>\n",
       "    </tr>\n",
       "  </tbody>\n",
       "</table>\n",
       "<p>6990280 rows × 6 columns</p>\n",
       "</div>"
      ],
      "text/plain": [
       "                      review_id             business_id  stars          city  \\\n",
       "0        KU_O5udG6zpxOg-VcAEodg  XQfwVwDr-v0ZS3_CbbE5Xw      3   North Wales   \n",
       "1        BiTunyQ73aT9WBnpR9DZGw  7ATYjTIgM3jUlt4UM3IypQ      5  Philadelphia   \n",
       "2        saUsX_uimxRlCVr67Z4Jig  YjUWPpI6HXG530lwP-fb2A      3        Tucson   \n",
       "3        AqPFMleE6RsU23_auESxiA  kxX2SOes4o-D3ZQBkiMRfA      5  Philadelphia   \n",
       "4        Sx8TMOWLNuJBWer-0pcmoA  e4Vwtrqf-wpJfwesgvdgxQ      4   New Orleans   \n",
       "...                         ...                     ...    ...           ...   \n",
       "6990275  H0RIamZu0B0Ei0P4aeh3sQ  jals67o91gcrD4DC81Vk6w      5         Boise   \n",
       "6990276  shTPgbgdwTHSuU67mGCmZQ  2vLksaMmSEcGbjI5gywpZA      5       Wimauma   \n",
       "6990277  YNfNhgZlaaCO5Q_YJR4rEw  R1khUUxidqfaJmcpmGd4aw      4  Willow Grove   \n",
       "6990278  i-I4ZOhoX70Nw5H0FwrQUA  Rr9kKArrMhSLVE9a53q-aA      5  Indianapolis   \n",
       "6990279  RwcKOdEuLRHNJe4M9-qpqg  VAeEXLbEcI9Emt9KGYq9aA      3     Nashville   \n",
       "\n",
       "         review_count  is_open  \n",
       "0                 169        1  \n",
       "1                 144        0  \n",
       "2                  47        1  \n",
       "3                 181        1  \n",
       "4                  32        0  \n",
       "...               ...      ...  \n",
       "6990275            36        1  \n",
       "6990276            30        1  \n",
       "6990277            32        1  \n",
       "6990278            83        1  \n",
       "6990279          3054        1  \n",
       "\n",
       "[6990280 rows x 6 columns]"
      ]
     },
     "execution_count": 3,
     "metadata": {},
     "output_type": "execute_result"
    }
   ],
   "source": [
    "# Aggregation of data, with relevant columns, from the business and reviews datasets\n",
    "cities = business[['business_id', 'city', 'review_count', 'is_open']]\n",
    "reviews_small = reviews[['review_id', 'business_id', 'stars']]\n",
    "\n",
    "cities_reviews = pd.merge(reviews_small, cities, left_on='business_id', right_on='business_id', how='left')\n",
    "cities_reviews"
   ]
  },
  {
   "cell_type": "code",
   "execution_count": 4,
   "metadata": {},
   "outputs": [
    {
     "name": "stdout",
     "output_type": "stream",
     "text": [
      "Number of cities: 1416\n"
     ]
    }
   ],
   "source": [
    "n_cities = cities_reviews['city'].nunique()\n",
    "print(f'Number of cities: {n_cities}')"
   ]
  },
  {
   "cell_type": "markdown",
   "metadata": {},
   "source": [
    "<h1 style='font-size: 20px; font-weight: bold; margin-bottom: 10px; font-family: 'Formata', serif;'>\n",
    "        2.2 Analysing cities with more reviews and with high variance of stars in the reviews</h1>\n",
    "\n",
    "<p style='margin-bottom: 12px; font-size: 16px; font-family: 'Formata', serif;'>The idea with this analysis is to find the cities that have a higher variation on the reviews made by users on that location. Notice that both the business and reviews datasets have a column named 'stars', however the column chosen was from the reviews dataset because the other is simply the stars of the restaurant, not the stars given by users (interactions of our RS).</p>\n",
    "\n",
    "<p style='margin-bottom: 12px; font-size: 16px; font-family: 'Formata', serif;'>So, the code below computes the variance and the number of reviews for all 1416 cities and sorts the resulting dataframe by the variance of the review's stars in a descending order. After that, only cities with more than 300.000 reviews are considered, and then the final selection results in the remaining 5 cities with the highest variance.</p>\n",
    "\n",
    "<p style='margin-bottom: 12px; font-size: 16px; font-family: 'Formata', serif;'>Now, although Reno is the top city, I decided to apply a describe() to the stars of the reviews of each city, to better understand the distribution of reviews. Looking at the quartiles, the one that stood out was Tucson because at least 25% of the reviews have 2 stars or less, which shows more lower reviews than all other cities, with a first quartile of 3 stars.</p>\n",
    "\n",
    "<p style='margin-bottom: 12px; font-size: 16px; font-family: 'Formata', serif;'>Therefore, given the importance of having a lot of reviews and a variety of review stars, it appears to me that Tucson is a very good candidate for the city to be chosen.</p>"
   ]
  },
  {
   "cell_type": "code",
   "execution_count": 5,
   "metadata": {},
   "outputs": [
    {
     "data": {
      "text/html": [
       "<div>\n",
       "<style scoped>\n",
       "    .dataframe tbody tr th:only-of-type {\n",
       "        vertical-align: middle;\n",
       "    }\n",
       "\n",
       "    .dataframe tbody tr th {\n",
       "        vertical-align: top;\n",
       "    }\n",
       "\n",
       "    .dataframe thead th {\n",
       "        text-align: right;\n",
       "    }\n",
       "</style>\n",
       "<table border=\"1\" class=\"dataframe\">\n",
       "  <thead>\n",
       "    <tr style=\"text-align: right;\">\n",
       "      <th></th>\n",
       "      <th>city</th>\n",
       "      <th>star_var</th>\n",
       "      <th>count</th>\n",
       "    </tr>\n",
       "  </thead>\n",
       "  <tbody>\n",
       "    <tr>\n",
       "      <th>926</th>\n",
       "      <td>Reno</td>\n",
       "      <td>2.351522</td>\n",
       "      <td>351573</td>\n",
       "    </tr>\n",
       "    <tr>\n",
       "      <th>1210</th>\n",
       "      <td>Tucson</td>\n",
       "      <td>2.348581</td>\n",
       "      <td>404880</td>\n",
       "    </tr>\n",
       "    <tr>\n",
       "      <th>1157</th>\n",
       "      <td>Tampa</td>\n",
       "      <td>2.249768</td>\n",
       "      <td>454889</td>\n",
       "    </tr>\n",
       "    <tr>\n",
       "      <th>745</th>\n",
       "      <td>Nashville</td>\n",
       "      <td>2.052586</td>\n",
       "      <td>451571</td>\n",
       "    </tr>\n",
       "    <tr>\n",
       "      <th>511</th>\n",
       "      <td>Indianapolis</td>\n",
       "      <td>2.000884</td>\n",
       "      <td>361489</td>\n",
       "    </tr>\n",
       "  </tbody>\n",
       "</table>\n",
       "</div>"
      ],
      "text/plain": [
       "              city  star_var   count\n",
       "926           Reno  2.351522  351573\n",
       "1210        Tucson  2.348581  404880\n",
       "1157         Tampa  2.249768  454889\n",
       "745      Nashville  2.052586  451571\n",
       "511   Indianapolis  2.000884  361489"
      ]
     },
     "execution_count": 5,
     "metadata": {},
     "output_type": "execute_result"
    }
   ],
   "source": [
    "# Compute the variance of ratings for each city\n",
    "star_variance_by_city = cities_reviews.groupby('city')['stars'].var().reset_index()\n",
    "star_variance_by_city.columns = ['city', 'star_var']\n",
    "\n",
    "# Compute the count of each city in the original DataFrame\n",
    "city_count = cities_reviews['city'].value_counts().reset_index()\n",
    "city_count.columns = ['city', 'count']\n",
    "\n",
    "# Merge the variance and count DataFrames on the 'City' column\n",
    "result_df = pd.merge(star_variance_by_city, city_count, on='city')\n",
    "\n",
    "# Sort the results by variance in descending order\n",
    "result_df = result_df.sort_values(by='star_var', ascending=False)\n",
    "\n",
    "# Choosing the cities with higher variance and with more than 300k reviews\n",
    "result_df_limit5 = result_df[result_df['count'] >= 300000].sort_values(by='star_var', ascending=False).head(5)\n",
    "\n",
    "result_df_limit5"
   ]
  },
  {
   "cell_type": "code",
   "execution_count": 6,
   "metadata": {},
   "outputs": [
    {
     "data": {
      "text/html": [
       "<div>\n",
       "<style scoped>\n",
       "    .dataframe tbody tr th:only-of-type {\n",
       "        vertical-align: middle;\n",
       "    }\n",
       "\n",
       "    .dataframe tbody tr th {\n",
       "        vertical-align: top;\n",
       "    }\n",
       "\n",
       "    .dataframe thead th {\n",
       "        text-align: right;\n",
       "    }\n",
       "</style>\n",
       "<table border=\"1\" class=\"dataframe\">\n",
       "  <thead>\n",
       "    <tr style=\"text-align: right;\">\n",
       "      <th></th>\n",
       "      <th>Reno</th>\n",
       "      <th>Tucson</th>\n",
       "      <th>Tampa</th>\n",
       "      <th>Nashville</th>\n",
       "      <th>Indianapolis</th>\n",
       "    </tr>\n",
       "  </thead>\n",
       "  <tbody>\n",
       "    <tr>\n",
       "      <th>count</th>\n",
       "      <td>351573.000000</td>\n",
       "      <td>404880.000000</td>\n",
       "      <td>454889.000000</td>\n",
       "      <td>451571.000000</td>\n",
       "      <td>361489.000000</td>\n",
       "    </tr>\n",
       "    <tr>\n",
       "      <th>mean</th>\n",
       "      <td>3.748280</td>\n",
       "      <td>3.700897</td>\n",
       "      <td>3.753065</td>\n",
       "      <td>3.818166</td>\n",
       "      <td>3.823646</td>\n",
       "    </tr>\n",
       "    <tr>\n",
       "      <th>std</th>\n",
       "      <td>1.533467</td>\n",
       "      <td>1.532508</td>\n",
       "      <td>1.499923</td>\n",
       "      <td>1.432685</td>\n",
       "      <td>1.414526</td>\n",
       "    </tr>\n",
       "    <tr>\n",
       "      <th>min</th>\n",
       "      <td>1.000000</td>\n",
       "      <td>1.000000</td>\n",
       "      <td>1.000000</td>\n",
       "      <td>1.000000</td>\n",
       "      <td>1.000000</td>\n",
       "    </tr>\n",
       "    <tr>\n",
       "      <th>25%</th>\n",
       "      <td>3.000000</td>\n",
       "      <td>2.000000</td>\n",
       "      <td>3.000000</td>\n",
       "      <td>3.000000</td>\n",
       "      <td>3.000000</td>\n",
       "    </tr>\n",
       "    <tr>\n",
       "      <th>50%</th>\n",
       "      <td>4.000000</td>\n",
       "      <td>4.000000</td>\n",
       "      <td>4.000000</td>\n",
       "      <td>4.000000</td>\n",
       "      <td>4.000000</td>\n",
       "    </tr>\n",
       "    <tr>\n",
       "      <th>75%</th>\n",
       "      <td>5.000000</td>\n",
       "      <td>5.000000</td>\n",
       "      <td>5.000000</td>\n",
       "      <td>5.000000</td>\n",
       "      <td>5.000000</td>\n",
       "    </tr>\n",
       "    <tr>\n",
       "      <th>max</th>\n",
       "      <td>5.000000</td>\n",
       "      <td>5.000000</td>\n",
       "      <td>5.000000</td>\n",
       "      <td>5.000000</td>\n",
       "      <td>5.000000</td>\n",
       "    </tr>\n",
       "  </tbody>\n",
       "</table>\n",
       "</div>"
      ],
      "text/plain": [
       "                Reno         Tucson          Tampa      Nashville  \\\n",
       "count  351573.000000  404880.000000  454889.000000  451571.000000   \n",
       "mean        3.748280       3.700897       3.753065       3.818166   \n",
       "std         1.533467       1.532508       1.499923       1.432685   \n",
       "min         1.000000       1.000000       1.000000       1.000000   \n",
       "25%         3.000000       2.000000       3.000000       3.000000   \n",
       "50%         4.000000       4.000000       4.000000       4.000000   \n",
       "75%         5.000000       5.000000       5.000000       5.000000   \n",
       "max         5.000000       5.000000       5.000000       5.000000   \n",
       "\n",
       "        Indianapolis  \n",
       "count  361489.000000  \n",
       "mean        3.823646  \n",
       "std         1.414526  \n",
       "min         1.000000  \n",
       "25%         3.000000  \n",
       "50%         4.000000  \n",
       "75%         5.000000  \n",
       "max         5.000000  "
      ]
     },
     "execution_count": 6,
     "metadata": {},
     "output_type": "execute_result"
    }
   ],
   "source": [
    "reno = utils.describe_cities(cities_reviews, 'Reno')\n",
    "tucson = utils.describe_cities(cities_reviews, 'Tucson')\n",
    "tampa = utils.describe_cities(cities_reviews, 'Tampa')\n",
    "nashville = utils.describe_cities(cities_reviews, 'Nashville')\n",
    "indianapolis = utils.describe_cities(cities_reviews, 'Indianapolis')\n",
    "\n",
    "city_describe = reno\n",
    "city_describe['Tucson'] = tucson\n",
    "city_describe['Tampa'] = tampa\n",
    "city_describe['Nashville'] = nashville\n",
    "city_describe['Indianapolis'] = indianapolis\n",
    "\n",
    "city_describe"
   ]
  },
  {
   "cell_type": "code",
   "execution_count": 7,
   "metadata": {},
   "outputs": [
    {
     "data": {
      "text/plain": [
       "array([[<Axes: title={'center': 'stars'}>]], dtype=object)"
      ]
     },
     "metadata": {},
     "output_type": "display_data"
    },
    {
     "data": {
      "text/plain": [
       "array([[<Axes: title={'center': 'stars'}>]], dtype=object)"
      ]
     },
     "metadata": {},
     "output_type": "display_data"
    },
    {
     "data": {
      "image/png": "[encoded data removed]",
      "text/plain": [
       "<Figure size 640x480 with 1 Axes>"
      ]
     },
     "metadata": {},
     "output_type": "display_data"
    },
    {
     "data": {
      "image/png": "[encoded data removed]",
      "text/plain": [
       "<Figure size 640x480 with 1 Axes>"
      ]
     },
     "metadata": {},
     "output_type": "display_data"
    }
   ],
   "source": [
    "display(cities_reviews[cities_reviews['city'] == 'Reno'][['stars']].hist())\n",
    "display(cities_reviews[cities_reviews['city'] == 'Tucson'][['stars']].hist())"
   ]
  }
 ],
 "metadata": {
  "kernelspec": {
   "display_name": "base",
   "language": "python",
   "name": "python3"
  },
  "language_info": {
   "codemirror_mode": {
    "name": "ipython",
    "version": 3
   },
   "file_extension": ".py",
   "mimetype": "text/x-python",
   "name": "python",
   "nbconvert_exporter": "python",
   "pygments_lexer": "ipython3",
   "version": "3.10.9"
  },
  "orig_nbformat": 4
 },
 "nbformat": 4,
 "nbformat_minor": 2
}
